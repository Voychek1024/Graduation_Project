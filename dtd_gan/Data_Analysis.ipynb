{
 "cells": [
  {
   "cell_type": "code",
   "execution_count": null,
   "id": "4f524d25",
   "metadata": {
    "collapsed": false,
    "pycharm": {
     "name": "#%%\n"
    }
   },
   "outputs": [],
   "source": [
    "import os\n",
    "import pandas as pd\n",
    "import numpy as np\n",
    "import csv"
   ]
  },
  {
   "cell_type": "code",
   "execution_count": null,
   "id": "4082a683",
   "metadata": {
    "collapsed": false,
    "pycharm": {
     "name": "#%%\n"
    }
   },
   "outputs": [],
   "source": [
    "df = pd.read_csv(\"./labels/label_gan.txt\", delimiter=\"\\t\", sep=\"\\n\", header=None, quoting=csv.QUOTE_NONE)\n",
    "classes = os.listdir('./data/dtd/images/')"
   ]
  },
  {
   "cell_type": "markdown",
   "id": "2d5945f4",
   "metadata": {
    "pycharm": {
     "name": "#%% md\n"
    }
   },
   "source": [
    "主要分析类内样本数，以及类间比例"
   ]
  },
  {
   "cell_type": "code",
   "execution_count": null,
   "id": "b0f05837",
   "metadata": {
    "collapsed": false,
    "pycharm": {
     "name": "#%%\n"
    }
   },
   "outputs": [],
   "source": [
    "df_analysis = pd.DataFrame({'Class': classes,\n",
    "                            'Number of Samples': df.iloc[:,1].value_counts(sort=False, normalize=False),\n",
    "                            'Ratio of Samples': df.iloc[:,1].value_counts(sort=False, normalize=True)})\n",
    "df_analysis.style.format({'Ratio of Samples': '{:,.2%}'.format})"
   ]
  },
  {
   "cell_type": "markdown",
   "id": "a7cf452a",
   "metadata": {
    "pycharm": {
     "name": "#%% md\n"
    }
   },
   "source": [
    "将结果输出至csv，以备综合比对"
   ]
  },
  {
   "cell_type": "code",
   "execution_count": null,
   "id": "6c6bf3f7",
   "metadata": {
    "collapsed": false,
    "pycharm": {
     "name": "#%%\n"
    }
   },
   "outputs": [],
   "source": [
    "df_analysis.to_csv(\"dataset_analysis.csv\", index=False, sep=\",\")"
   ]
  }
 ],
 "metadata": {
  "interpreter": {
   "hash": "ad2bdc8ecc057115af97d19610ffacc2b4e99fae6737bb82f5d7fb13d2f2c186"
  },
  "kernelspec": {
   "display_name": "Python 3.8.3 ('base')",
   "language": "python",
   "name": "python3"
  },
  "language_info": {
   "codemirror_mode": {
    "name": "ipython",
    "version": 3
   },
   "file_extension": ".py",
   "mimetype": "text/x-python",
   "name": "python",
   "nbconvert_exporter": "python",
   "pygments_lexer": "ipython3",
   "version": "3.8.3"
  }
 },
 "nbformat": 4,
 "nbformat_minor": 5
}
