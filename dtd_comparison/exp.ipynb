{
 "cells": [
  {
   "cell_type": "code",
   "execution_count": 1,
   "metadata": {},
   "outputs": [
    {
     "data": {
      "text/plain": [
       "'SEED Everything'"
      ]
     },
     "execution_count": 1,
     "metadata": {},
     "output_type": "execute_result"
    }
   ],
   "source": [
    "# imports\n",
    "import matplotlib.pyplot as plt\n",
    "import matplotlib\n",
    "import joblib\n",
    "import cv2\n",
    "import os\n",
    "import torch \n",
    "import numpy as np\n",
    "import torch.nn as nn\n",
    "import torch.nn.functional as F\n",
    "import torch.optim as optim\n",
    "import time\n",
    "import random\n",
    "import pretrainedmodels\n",
    "\n",
    "from imutils import paths\n",
    "from sklearn.preprocessing import LabelBinarizer\n",
    "from sklearn.model_selection import train_test_split\n",
    "from torchvision.transforms import transforms\n",
    "from torch.utils.data import DataLoader, Dataset\n",
    "from tqdm import tqdm\n",
    "\n",
    "matplotlib.style.use('ggplot')\n",
    "\n",
    "'''SEED Everything'''\n",
    "def seed_everything(SEED=42):\n",
    "    random.seed(SEED)\n",
    "    np.random.seed(SEED)\n",
    "    torch.manual_seed(SEED)\n",
    "    torch.cuda.manual_seed(SEED)\n",
    "    torch.cuda.manual_seed_all(SEED)\n",
    "    torch.backends.cudnn.benchmark = True # keep True if all the input have same size.\n",
    "SEED=42\n",
    "seed_everything(SEED=SEED)\n",
    "'''SEED Everything'''"
   ]
  },
  {
   "cell_type": "code",
   "execution_count": 2,
   "metadata": {},
   "outputs": [
    {
     "name": "stdout",
     "output_type": "stream",
     "text": [
      "using cuda\n"
     ]
    }
   ],
   "source": [
    "if torch.cuda.is_available():\n",
    "    device = 'cuda'\n",
    "    print('using cuda')\n",
    "else:\n",
    "    device = 'cpu'\n",
    " \n",
    "epochs = 25\n",
    "BATCH_SIZE = 16"
   ]
  },
  {
   "cell_type": "code",
   "execution_count": 4,
   "metadata": {},
   "outputs": [
    {
     "name": "stdout",
     "output_type": "stream",
     "text": [
      "[['computer-keyboard/045_0013.jpg' '5']\n",
      " ['computer-monitor/046_0059.jpg' '6']\n",
      " ['computer-monitor/046_0133.jpg' '6']\n",
      " ...\n",
      " ['doorknob/058_0053.jpg' '8']\n",
      " ['video-projector/238_0060.jpg' '14']\n",
      " ['head-phones/101_0044.jpg' '11']]\n"
     ]
    }
   ],
   "source": [
    "fileNames = np.loadtxt('./Train.txt', dtype=np.str, delimiter='\\t')\n",
    "np.random.shuffle(fileNames)\n",
    "\n",
    "evalNames = np.loadtxt('./Eval.txt', dtype=np.str, delimiter='\\t')\n",
    "np.random.shuffle(evalNames)\n",
    "\n",
    "# for i in range(len(fileNames)):\n",
    "    # print(fileNames[i])\n",
    "    # fileNames[i][0] = dataDir + fileNames[i][0]\n",
    "print(fileNames)"
   ]
  },
  {
   "cell_type": "code",
   "execution_count": 5,
   "metadata": {},
   "outputs": [
    {
     "name": "stdout",
     "output_type": "stream",
     "text": [
      "./Images/head-phones/101_0073.jpg\n",
      "./Images/computer-mouse/047_0028.jpg\n",
      "./Images/binoculars/012_0028.jpg\n",
      "./Images/palm-pilot/153_0028.jpg\n",
      "./Images/calculator/027_0055.jpg\n",
      "./Images/binoculars/012_0100.jpg\n",
      "./Images/computer-monitor/046_0091.jpg\n",
      "./Images/joy-stick/120_0073.jpg\n",
      "./Images/washing-machine/239_0010.jpg\n",
      "./Images/binoculars/012_0145.jpg\n",
      "./Images/computer-monitor/046_0046.jpg\n",
      "./Images/flashlight/074_0091.jpg\n",
      "./Images/binoculars/012_0019.jpg\n",
      "./Images/cannon/029_0028.jpg\n",
      "./Images/computer-mouse/047_0019.jpg\n",
      "./Images/computer-keyboard/045_0046.jpg\n",
      "./Images/joy-stick/120_0109.jpg\n",
      "./Images/computer-monitor/046_0010.jpg\n",
      "./Images/computer-mouse/047_0091.jpg\n",
      "./Images/computer-keyboard/045_0019.jpg\n",
      "./Images/boom-box/016_0064.jpg\n",
      "./Images/binoculars/012_0208.jpg\n",
      "./Images/head-phones/101_0055.jpg\n",
      "./Images/dumb-bell/061_0019.jpg\n",
      "./Images/head-phones/101_0127.jpg\n",
      "./Images/dumb-bell/061_0073.jpg\n",
      "./Images/boom-box/016_0019.jpg\n",
      "./Images/palm-pilot/153_0001.jpg\n",
      "./Images/flashlight/074_0019.jpg\n",
      "./Images/computer-mouse/047_0082.jpg\n",
      "./Images/calculator/027_0064.jpg\n",
      "./Images/binoculars/012_0118.jpg\n",
      "./Images/washing-machine/239_0064.jpg\n",
      "./Images/calculator/027_0037.jpg\n",
      "./Images/cannon/029_0001.jpg\n",
      "./Images/computer-keyboard/045_0055.jpg\n",
      "./Images/binoculars/012_0163.jpg\n",
      "./Images/computer-monitor/046_0082.jpg\n",
      "./Images/doorknob/058_0073.jpg\n",
      "./Images/doorknob/058_0001.jpg\n",
      "./Images/joy-stick/120_0055.jpg\n",
      "./Images/boom-box/016_0028.jpg\n",
      "./Images/cannon/029_0073.jpg\n",
      "./Images/computer-keyboard/045_0001.jpg\n",
      "./Images/flashlight/074_0082.jpg\n",
      "./Images/computer-mouse/047_0046.jpg\n",
      "./Images/computer-mouse/047_0037.jpg\n",
      "./Images/video-projector/238_0055.jpg\n",
      "./Images/head-phones/101_0100.jpg\n",
      "./Images/joy-stick/120_0127.jpg\n",
      "./Images/video-projector/238_0046.jpg\n",
      "./Images/binoculars/012_0001.jpg\n",
      "./Images/washing-machine/239_0073.jpg\n",
      "./Images/boom-box/016_0055.jpg\n",
      "./Images/flashlight/074_0037.jpg\n",
      "./Images/calculator/027_0082.jpg\n",
      "./Images/head-phones/101_0010.jpg\n",
      "./Images/video-projector/238_0073.jpg\n",
      "./Images/computer-keyboard/045_0010.jpg\n",
      "./Images/doorknob/058_0046.jpg\n",
      "./Images/binoculars/012_0046.jpg\n",
      "./Images/calculator/027_0010.jpg\n",
      "./Images/video-projector/238_0010.jpg\n",
      "./Images/dumb-bell/061_0091.jpg\n",
      "./Images/dumb-bell/061_0100.jpg\n",
      "./Images/washing-machine/239_0037.jpg\n",
      "./Images/calculator/027_0100.jpg\n",
      "./Images/video-projector/238_0001.jpg\n",
      "./Images/video-projector/238_0028.jpg\n",
      "./Images/palm-pilot/153_0082.jpg\n",
      "./Images/joy-stick/120_0046.jpg\n",
      "./Images/calculator/027_0046.jpg\n",
      "./Images/joy-stick/120_0064.jpg\n",
      "./Images/doorknob/058_0082.jpg\n",
      "./Images/computer-monitor/046_0037.jpg\n",
      "./Images/flashlight/074_0010.jpg\n",
      "./Images/computer-monitor/046_0001.jpg\n",
      "./Images/head-phones/101_0082.jpg\n",
      "./Images/ak47/001_0046.jpg\n",
      "./Images/boom-box/016_0010.jpg\n",
      "./Images/washing-machine/239_0082.jpg\n",
      "./Images/cannon/029_0010.jpg\n",
      "./Images/palm-pilot/153_0037.jpg\n",
      "./Images/joy-stick/120_0010.jpg\n",
      "./Images/computer-monitor/046_0064.jpg\n",
      "./Images/flashlight/074_0064.jpg\n",
      "./Images/boom-box/016_0046.jpg\n",
      "./Images/head-phones/101_0028.jpg\n",
      "./Images/computer-monitor/046_0055.jpg\n",
      "./Images/flashlight/074_0028.jpg\n",
      "./Images/calculator/027_0073.jpg\n",
      "./Images/binoculars/012_0037.jpg\n",
      "./Images/dumb-bell/061_0001.jpg\n",
      "./Images/joy-stick/120_0028.jpg\n",
      "./Images/binoculars/012_0082.jpg\n",
      "./Images/computer-monitor/046_0109.jpg\n",
      "./Images/doorknob/058_0019.jpg\n",
      "./Images/boom-box/016_0001.jpg\n",
      "./Images/joy-stick/120_0082.jpg\n",
      "./Images/flashlight/074_0073.jpg\n",
      "./Images/washing-machine/239_0046.jpg\n",
      "./Images/flashlight/074_0100.jpg\n",
      "./Images/computer-keyboard/045_0037.jpg\n",
      "./Images/boom-box/016_0082.jpg\n",
      "./Images/binoculars/012_0064.jpg\n",
      "./Images/video-projector/238_0064.jpg\n",
      "./Images/dumb-bell/061_0046.jpg\n",
      "./Images/dumb-bell/061_0037.jpg\n",
      "./Images/computer-mouse/047_0055.jpg\n",
      "./Images/computer-keyboard/045_0073.jpg\n",
      "./Images/head-phones/101_0019.jpg\n",
      "./Images/computer-monitor/046_0073.jpg\n",
      "./Images/ak47/001_0010.jpg\n",
      "./Images/palm-pilot/153_0019.jpg\n",
      "./Images/head-phones/101_0037.jpg\n",
      "./Images/flashlight/074_0055.jpg\n",
      "./Images/computer-monitor/046_0019.jpg\n",
      "./Images/computer-monitor/046_0028.jpg\n",
      "./Images/joy-stick/120_0091.jpg\n",
      "./Images/computer-mouse/047_0010.jpg\n",
      "./Images/binoculars/012_0073.jpg\n",
      "./Images/washing-machine/239_0028.jpg\n",
      "./Images/binoculars/012_0109.jpg\n",
      "./Images/dumb-bell/061_0064.jpg\n",
      "./Images/cannon/029_0064.jpg\n",
      "./Images/calculator/027_0019.jpg\n",
      "./Images/doorknob/058_0037.jpg\n",
      "./Images/head-phones/101_0064.jpg\n",
      "./Images/computer-keyboard/045_0082.jpg\n",
      "./Images/ak47/001_0001.jpg\n",
      "./Images/joy-stick/120_0118.jpg\n",
      "./Images/joy-stick/120_0100.jpg\n",
      "./Images/binoculars/012_0154.jpg\n",
      "./Images/dumb-bell/061_0010.jpg\n",
      "./Images/head-phones/101_0109.jpg\n",
      "./Images/ak47/001_0055.jpg\n",
      "./Images/joy-stick/120_0001.jpg\n",
      "./Images/computer-keyboard/045_0064.jpg\n",
      "./Images/washing-machine/239_0001.jpg\n",
      "./Images/joy-stick/120_0019.jpg\n",
      "./Images/computer-monitor/046_0118.jpg\n",
      "./Images/dumb-bell/061_0028.jpg\n",
      "./Images/binoculars/012_0055.jpg\n",
      "./Images/doorknob/058_0064.jpg\n",
      "./Images/ak47/001_0028.jpg\n",
      "./Images/computer-keyboard/045_0028.jpg\n",
      "./Images/binoculars/012_0091.jpg\n",
      "./Images/binoculars/012_0181.jpg\n",
      "./Images/calculator/027_0028.jpg\n",
      "./Images/head-phones/101_0046.jpg\n",
      "./Images/computer-mouse/047_0001.jpg\n",
      "./Images/cannon/029_0091.jpg\n",
      "./Images/flashlight/074_0046.jpg\n",
      "./Images/palm-pilot/153_0055.jpg\n",
      "./Images/boom-box/016_0091.jpg\n",
      "./Images/computer-mouse/047_0073.jpg\n",
      "./Images/palm-pilot/153_0073.jpg\n",
      "./Images/palm-pilot/153_0064.jpg\n",
      "./Images/calculator/027_0001.jpg\n",
      "./Images/dumb-bell/061_0055.jpg\n",
      "./Images/video-projector/238_0037.jpg\n",
      "./Images/flashlight/074_0109.jpg\n",
      "./Images/cannon/029_0082.jpg\n",
      "./Images/ak47/001_0091.jpg\n",
      "./Images/washing-machine/239_0019.jpg\n",
      "./Images/binoculars/012_0127.jpg\n",
      "./Images/head-phones/101_0001.jpg\n",
      "./Images/computer-monitor/046_0127.jpg\n",
      "./Images/palm-pilot/153_0091.jpg\n",
      "./Images/binoculars/012_0172.jpg\n",
      "./Images/palm-pilot/153_0046.jpg\n",
      "./Images/cannon/029_0100.jpg\n",
      "./Images/doorknob/058_0028.jpg\n",
      "./Images/computer-mouse/047_0064.jpg\n",
      "./Images/calculator/027_0091.jpg\n",
      "./Images/boom-box/016_0037.jpg\n",
      "./Images/ak47/001_0019.jpg\n",
      "./Images/cannon/029_0037.jpg\n",
      "./Images/dumb-bell/061_0082.jpg\n",
      "./Images/ak47/001_0037.jpg\n",
      "./Images/boom-box/016_0073.jpg\n",
      "./Images/washing-machine/239_0055.jpg\n",
      "./Images/computer-monitor/046_0100.jpg\n",
      "./Images/cannon/029_0046.jpg\n",
      "./Images/palm-pilot/153_0010.jpg\n",
      "./Images/head-phones/101_0136.jpg\n",
      "./Images/binoculars/012_0136.jpg\n",
      "./Images/cannon/029_0019.jpg\n",
      "./Images/flashlight/074_0001.jpg\n",
      "./Images/binoculars/012_0199.jpg\n",
      "./Images/ak47/001_0073.jpg\n",
      "./Images/doorknob/058_0055.jpg\n",
      "./Images/joy-stick/120_0037.jpg\n",
      "./Images/doorknob/058_0091.jpg\n",
      "./Images/cannon/029_0055.jpg\n",
      "./Images/ak47/001_0064.jpg\n",
      "./Images/doorknob/058_0010.jpg\n",
      "./Images/video-projector/238_0019.jpg\n",
      "./Images/binoculars/012_0190.jpg\n",
      "./Images/video-projector/238_0082.jpg\n",
      "./Images/video-projector/238_0091.jpg\n",
      "./Images/ak47/001_0082.jpg\n",
      "./Images/head-phones/101_0118.jpg\n",
      "./Images/binoculars/012_0010.jpg\n",
      "./Images/head-phones/101_0091.jpg\n",
      "[11  7  1 13  3  1  6 12 15  1  6 10  1  4  7  5 12  6  7  5  2  1 11  9\n",
      " 11  9  2 13 10  7  3  1 15  3  4  5  1  6  8  8 12  2  4  5 10  7  7 14\n",
      " 11 12 14  1 15  2 10  3 11 14  5  8  1  3 14  9  9 15  3 14 14 13 12  3\n",
      " 12  8  6 10  6 11  0  2 15  4 13 12  6 10  2 11  6 10  3  1  9 12  1  6\n",
      "  8  2 12 10 15 10  5  2  1 14  9  9  7  5 11  6  0 13 11 10  6  6 12  7\n",
      "  1 15  1  9  4  3  8 11  5  0 12 12  1  9 11  0 12  5 15 12  6  9  1  8\n",
      "  0  5  1  1  3 11  7  4 10 13  2  7 13 13  3  9 14 10  4  0 15  1 11  6\n",
      " 13  1 13  4  8  7  3  2  0  4  9  0  2 15  6  4 13 11  1  4 10  1  0  8\n",
      " 12  8  4  0  8 14  1 14 14  0 11  1 11]\n"
     ]
    }
   ],
   "source": [
    "dataDir = './Images/'\n",
    "testNames = np.loadtxt('./final_Test.txt', dtype=np.str, delimiter='\\t')\n",
    "# np.random.shuffle(testNames)\n",
    "t_data = []\n",
    "t_labels = []\n",
    "for i in range(len(testNames)):\n",
    "    label = testNames[i][1]\n",
    "    print(dataDir + testNames[i][0])\n",
    "    image = cv2.imread(dataDir + testNames[i][0])\n",
    "    image = cv2.cvtColor(image, cv2.COLOR_BGR2RGB)\n",
    " \n",
    "    t_data.append(image)\n",
    "    t_labels.append(int(label))\n",
    "\n",
    "t_data = np.array(t_data)\n",
    "t_labels = np.array(t_labels)\n",
    "# print([int(x) for x in t_labels])\n",
    "print(t_labels)"
   ]
  },
  {
   "cell_type": "code",
   "execution_count": 7,
   "metadata": {},
   "outputs": [],
   "source": [
    "# image_paths = list(paths.list_images('../input/101_ObjectCategories'))\n",
    "\n",
    "e_data = []\n",
    "e_labels = []\n",
    "data = []\n",
    "labels = []\n",
    "for i in range(len(fileNames)):\n",
    "    label = fileNames[i][1]\n",
    "    image = cv2.imread(dataDir + fileNames[i][0])\n",
    "    image = cv2.cvtColor(image, cv2.COLOR_BGR2RGB)\n",
    " \n",
    "    data.append(image)\n",
    "    labels.append(int(label))\n",
    "\n",
    "data = np.array(data)\n",
    "labels = np.array(labels)\n",
    "\n",
    "for i in range(len(evalNames)):\n",
    "    label = evalNames[i][1]\n",
    "    image = cv2.imread(dataDir + evalNames[i][0])\n",
    "    image = cv2.cvtColor(image, cv2.COLOR_BGR2RGB)\n",
    " \n",
    "    e_data.append(image)\n",
    "    e_labels.append(int(label))\n",
    "\n",
    "e_data = np.array(e_data)\n",
    "e_labels = np.array(e_labels)"
   ]
  },
  {
   "cell_type": "code",
   "execution_count": 8,
   "metadata": {},
   "outputs": [
    {
     "name": "stdout",
     "output_type": "stream",
     "text": [
      "[ 4 14 10 ...  2  8 12]\n"
     ]
    }
   ],
   "source": [
    "print(labels)"
   ]
  },
  {
   "cell_type": "code",
   "execution_count": 10,
   "metadata": {},
   "outputs": [
    {
     "name": "stdout",
     "output_type": "stream",
     "text": [
      "[0 0 0 0 0 0 0 0 0 0 0 1 0 0 0 0]\n",
      "Total number of classes: 16\n"
     ]
    }
   ],
   "source": [
    "# one hot encode\n",
    "lb = LabelBinarizer()\n",
    "labels = lb.fit_transform(labels)\n",
    "e_labels = lb.fit_transform(e_labels)\n",
    "t_labels = lb.fit_transform(t_labels)\n",
    "# print(labels)\n",
    "print(t_labels[0])\n",
    "print(f\"Total number of classes: {len(lb.classes_)}\")"
   ]
  },
  {
   "cell_type": "code",
   "execution_count": null,
   "metadata": {},
   "outputs": [],
   "source": [
    "print(lb.inverse_transform(t_labels))"
   ]
  },
  {
   "cell_type": "code",
   "execution_count": 11,
   "metadata": {},
   "outputs": [],
   "source": [
    "# define transforms\n",
    "train_transform = transforms.Compose(\n",
    "    [transforms.ToPILImage(),\n",
    "\t transforms.Resize((224, 224)),\n",
    "     transforms.ToTensor(),\n",
    "     transforms.Normalize(mean=[0.485, 0.456, 0.406],\n",
    "                          std=[0.229, 0.224, 0.225])])\n",
    "val_transform = transforms.Compose(\n",
    "    [transforms.ToPILImage(),\n",
    "\t transforms.Resize((224, 224)),\n",
    "     transforms.ToTensor(),\n",
    "     transforms.Normalize(mean=[0.485, 0.456, 0.406],\n",
    "                          std=[0.229, 0.224, 0.225])])"
   ]
  },
  {
   "cell_type": "code",
   "execution_count": null,
   "metadata": {},
   "outputs": [],
   "source": [
    "# 可改变，尝试使用给出的Eval.txt和Test.txt\n",
    "# divide the data into train, validation, and test set\n",
    "(X, x_val , Y, y_val) = train_test_split(data, labels, \n",
    "                                                    test_size=0.2,  \n",
    "                                                    stratify=labels,\n",
    "                                                    random_state=42)\n",
    "\n",
    "(x_train, x_test, y_train, y_test) = train_test_split(X, Y, \n",
    "                                                    test_size=0.25, \n",
    "                                                    random_state=42)\n",
    "\n",
    "print(f\"x_train examples: {x_train.shape}\\nx_test examples: {x_test.shape}\\nx_val examples: {x_val.shape}\")\n",
    "print(type(x_train))\n",
    "print(y_val)"
   ]
  },
  {
   "cell_type": "code",
   "execution_count": 12,
   "metadata": {},
   "outputs": [
    {
     "name": "stdout",
     "output_type": "stream",
     "text": [
      "x_train examples: (1567,)\n",
      "x_val examples: (205,)\n",
      "final_test examples: (205,)\n",
      "[[0 0 0 ... 0 0 0]\n",
      " [0 0 0 ... 0 0 0]\n",
      " [0 1 0 ... 0 0 0]\n",
      " ...\n",
      " [0 0 0 ... 0 0 0]\n",
      " [0 1 0 ... 0 0 0]\n",
      " [0 0 0 ... 0 0 0]]\n",
      "[[0 0 0 ... 0 0 0]\n",
      " [0 0 0 ... 0 0 0]\n",
      " [0 1 0 ... 0 0 0]\n",
      " ...\n",
      " [0 0 0 ... 0 0 0]\n",
      " [0 1 0 ... 0 0 0]\n",
      " [0 0 0 ... 0 0 0]]\n"
     ]
    }
   ],
   "source": [
    "# print(x_train)\n",
    "(x_train, y_train) = (data, labels)\n",
    "(x_val, y_val) = (e_data, e_labels)\n",
    "(x_ftest, y_ftest) = (t_data, t_labels)\n",
    "print(f\"x_train examples: {x_train.shape}\\nx_val examples: {x_val.shape}\")\n",
    "print(f\"final_test examples: {x_ftest.shape}\")\n",
    "# print(type(x_ftest))\n",
    "print(t_labels)\n",
    "print(y_ftest)"
   ]
  },
  {
   "cell_type": "code",
   "execution_count": 13,
   "metadata": {},
   "outputs": [],
   "source": [
    "# custom dataset\n",
    "class ImageDataset(Dataset):\n",
    "    def __init__(self, images, labels=None, transforms=None):\n",
    "        self.X = images\n",
    "        self.y = labels\n",
    "        self.transforms = transforms\n",
    "         \n",
    "    def __len__(self):\n",
    "        return (len(self.X))\n",
    "    \n",
    "    def __getitem__(self, i):\n",
    "        data = self.X[i][:]\n",
    "        \n",
    "        if self.transforms:\n",
    "            data = self.transforms(data)\n",
    "            \n",
    "        if self.y is not None:\n",
    "            return (data, self.y[i])\n",
    "        else:\n",
    "            return data\n",
    "        \n",
    "train_data = ImageDataset(x_train, y_train, train_transform)\n",
    "val_data = ImageDataset(x_val, y_val, val_transform)\n",
    "# test_data = ImageDataset(x_test, y_test, val_transform)\n",
    "# print(x_test)\n",
    "# print(val_transform)\n",
    "final_test_data = ImageDataset(x_ftest, y_ftest, val_transform)"
   ]
  },
  {
   "cell_type": "code",
   "execution_count": 14,
   "metadata": {},
   "outputs": [],
   "source": [
    "# dataloaders\n",
    "trainloader = DataLoader(train_data, batch_size=BATCH_SIZE, shuffle=False)\n",
    "valloader = DataLoader(val_data, batch_size=BATCH_SIZE, shuffle=False)\n",
    "testloader = DataLoader(final_test_data, batch_size=BATCH_SIZE, shuffle=False)"
   ]
  },
  {
   "cell_type": "code",
   "execution_count": 15,
   "metadata": {},
   "outputs": [],
   "source": [
    "# the resnet34 model\n",
    "class ResNet34(nn.Module):\n",
    "    def __init__(self, pretrained):\n",
    "        super(ResNet34, self).__init__()\n",
    "        if pretrained is True:\n",
    "            self.model = pretrainedmodels.__dict__['resnet34'](pretrained='imagenet')\n",
    "        else:\n",
    "            self.model = pretrainedmodels.__dict__['resnet34'](pretrained=None)\n",
    "        \n",
    "        # change the classification layer\n",
    "        self.l0 = nn.Linear(512, len(lb.classes_))\n",
    "        self.dropout = nn.Dropout2d(0.4)\n",
    "\n",
    "    def forward(self, x):\n",
    "        # get the batch size only, ignore (c, h, w)\n",
    "        batch, _, _, _ = x.shape\n",
    "        x = self.model.features(x)\n",
    "        x = F.adaptive_avg_pool2d(x, 1).reshape(batch, -1)\n",
    "        x = self.dropout(x)\n",
    "        l0 = self.l0(x)\n",
    "        return l0\n",
    "\n",
    "model = ResNet34(pretrained=True).to(device)"
   ]
  },
  {
   "cell_type": "code",
   "execution_count": 16,
   "metadata": {},
   "outputs": [],
   "source": [
    "# optimizer\n",
    "optimizer = optim.Adam(model.parameters(), lr=1e-4)\n",
    "# loss function\n",
    "criterion = nn.CrossEntropyLoss()"
   ]
  },
  {
   "cell_type": "code",
   "execution_count": 17,
   "metadata": {},
   "outputs": [],
   "source": [
    "# training function\n",
    "def fit(model, dataloader):\n",
    "    print('Training')\n",
    "    model.train()\n",
    "    running_loss = 0.0\n",
    "    running_correct = 0\n",
    "    for i, data in tqdm(enumerate(dataloader), total=int(len(train_data)/dataloader.batch_size)):\n",
    "        data, target = data[0].to(device), data[1].to(device)\n",
    "        optimizer.zero_grad()\n",
    "        outputs = model(data)\n",
    "        loss = criterion(outputs, torch.max(target, 1)[1])\n",
    "        running_loss += loss.item()\n",
    "        _, preds = torch.max(outputs.data, 1)\n",
    "        running_correct += (preds == torch.max(target, 1)[1]).sum().item()\n",
    "        loss.backward()\n",
    "        optimizer.step()\n",
    "        \n",
    "    loss = running_loss/len(dataloader.dataset)\n",
    "    accuracy = 100. * running_correct/len(dataloader.dataset)\n",
    "    \n",
    "    print(f\"Train Loss: {loss:.4f}, Train Acc: {accuracy:.2f}\")\n",
    "    \n",
    "    return loss, accuracy"
   ]
  },
  {
   "cell_type": "code",
   "execution_count": 18,
   "metadata": {},
   "outputs": [],
   "source": [
    "#validation function\n",
    "def validate(model, dataloader):\n",
    "    print('Validating')\n",
    "    model.eval()\n",
    "    running_loss = 0.0\n",
    "    running_correct = 0\n",
    "    with torch.no_grad():\n",
    "        for i, data in tqdm(enumerate(dataloader), total=int(len(val_data)/dataloader.batch_size)):\n",
    "            data, target = data[0].to(device), data[1].to(device)\n",
    "            outputs = model(data)\n",
    "            loss = criterion(outputs, torch.max(target, 1)[1])\n",
    "            \n",
    "            running_loss += loss.item()\n",
    "            _, preds = torch.max(outputs.data, 1)\n",
    "            running_correct += (preds == torch.max(target, 1)[1]).sum().item()\n",
    "        \n",
    "        loss = running_loss/len(dataloader.dataset)\n",
    "        accuracy = 100. * running_correct/len(dataloader.dataset)\n",
    "        print(f'Val Loss: {loss:.4f}, Val Acc: {accuracy:.2f}')\n",
    "        \n",
    "        return loss, accuracy"
   ]
  },
  {
   "cell_type": "code",
   "execution_count": 19,
   "metadata": {},
   "outputs": [],
   "source": [
    "def test(model, dataloader):\n",
    "    correct = 0\n",
    "    total = 0\n",
    "    with open('result_raw.txt', 'w') as out_file:\n",
    "        with torch.no_grad():\n",
    "            for data in testloader:\n",
    "                inputs, target = data[0].to(device), data[1].to(device)\n",
    "                outputs = model(inputs)\n",
    "                _, predicted = torch.max(outputs.data, 1)\n",
    "                print(predicted)\n",
    "                # print(torch.max(target, 1)[1])\n",
    "                out_file.write(str(predicted))\n",
    "                out_file.write('\\n')\n",
    "                total += target.size(0)\n",
    "                correct += (predicted == torch.max(target, 1)[1]).sum().item()\n",
    " \n",
    "    return correct, total"
   ]
  },
  {
   "cell_type": "code",
   "execution_count": 20,
   "metadata": {},
   "outputs": [
    {
     "name": "stderr",
     "output_type": "stream",
     "text": [
      "  0%|                                                                                           | 0/97 [00:00<?, ?it/s]"
     ]
    },
    {
     "name": "stdout",
     "output_type": "stream",
     "text": [
      "Training on 1567 examples, validating on 205 examples...\n",
      "Epoch 1 of 25\n",
      "Training\n"
     ]
    },
    {
     "name": "stderr",
     "output_type": "stream",
     "text": [
      "98it [00:11,  8.65it/s]                                                                                                \n",
      " 17%|█████████████▊                                                                     | 2/12 [00:00<00:00, 16.44it/s]"
     ]
    },
    {
     "name": "stdout",
     "output_type": "stream",
     "text": [
      "Train Loss: 0.0700, Train Acc: 69.75\n",
      "Validating\n"
     ]
    },
    {
     "name": "stderr",
     "output_type": "stream",
     "text": [
      "13it [00:00, 14.04it/s]                                                                                                \n",
      "  2%|█▋                                                                                 | 2/97 [00:00<00:08, 11.71it/s]"
     ]
    },
    {
     "name": "stdout",
     "output_type": "stream",
     "text": [
      "Val Loss: 0.0208, Val Acc: 90.73\n",
      "Epoch 2 of 25\n",
      "Training\n"
     ]
    },
    {
     "name": "stderr",
     "output_type": "stream",
     "text": [
      "98it [00:08, 10.96it/s]                                                                                                \n",
      " 17%|█████████████▊                                                                     | 2/12 [00:00<00:00, 16.71it/s]"
     ]
    },
    {
     "name": "stdout",
     "output_type": "stream",
     "text": [
      "Train Loss: 0.0110, Train Acc: 96.94\n",
      "Validating\n"
     ]
    },
    {
     "name": "stderr",
     "output_type": "stream",
     "text": [
      "13it [00:00, 17.04it/s]                                                                                                \n",
      "  2%|█▋                                                                                 | 2/97 [00:00<00:07, 12.00it/s]"
     ]
    },
    {
     "name": "stdout",
     "output_type": "stream",
     "text": [
      "Val Loss: 0.0148, Val Acc: 94.15\n",
      "Epoch 3 of 25\n",
      "Training\n"
     ]
    },
    {
     "name": "stderr",
     "output_type": "stream",
     "text": [
      "98it [00:08, 10.91it/s]                                                                                                \n",
      " 17%|█████████████▊                                                                     | 2/12 [00:00<00:00, 15.43it/s]"
     ]
    },
    {
     "name": "stdout",
     "output_type": "stream",
     "text": [
      "Train Loss: 0.0029, Train Acc: 99.62\n",
      "Validating\n"
     ]
    },
    {
     "name": "stderr",
     "output_type": "stream",
     "text": [
      "13it [00:00, 15.90it/s]                                                                                                \n",
      "  2%|█▋                                                                                 | 2/97 [00:00<00:08, 11.73it/s]"
     ]
    },
    {
     "name": "stdout",
     "output_type": "stream",
     "text": [
      "Val Loss: 0.0128, Val Acc: 92.68\n",
      "Epoch 4 of 25\n",
      "Training\n"
     ]
    },
    {
     "name": "stderr",
     "output_type": "stream",
     "text": [
      "98it [00:08, 10.94it/s]                                                                                                \n",
      " 17%|█████████████▊                                                                     | 2/12 [00:00<00:00, 15.79it/s]"
     ]
    },
    {
     "name": "stdout",
     "output_type": "stream",
     "text": [
      "Train Loss: 0.0012, Train Acc: 100.00\n",
      "Validating\n"
     ]
    },
    {
     "name": "stderr",
     "output_type": "stream",
     "text": [
      "13it [00:00, 16.52it/s]                                                                                                \n",
      "  2%|█▋                                                                                 | 2/97 [00:00<00:07, 11.94it/s]"
     ]
    },
    {
     "name": "stdout",
     "output_type": "stream",
     "text": [
      "Val Loss: 0.0114, Val Acc: 94.15\n",
      "Epoch 5 of 25\n",
      "Training\n"
     ]
    },
    {
     "name": "stderr",
     "output_type": "stream",
     "text": [
      "98it [00:08, 10.90it/s]                                                                                                \n",
      " 17%|█████████████▊                                                                     | 2/12 [00:00<00:00, 16.71it/s]"
     ]
    },
    {
     "name": "stdout",
     "output_type": "stream",
     "text": [
      "Train Loss: 0.0006, Train Acc: 100.00\n",
      "Validating\n"
     ]
    },
    {
     "name": "stderr",
     "output_type": "stream",
     "text": [
      "13it [00:00, 16.62it/s]                                                                                                \n",
      "  2%|█▋                                                                                 | 2/97 [00:00<00:07, 12.08it/s]"
     ]
    },
    {
     "name": "stdout",
     "output_type": "stream",
     "text": [
      "Val Loss: 0.0110, Val Acc: 94.15\n",
      "Epoch 6 of 25\n",
      "Training\n"
     ]
    },
    {
     "name": "stderr",
     "output_type": "stream",
     "text": [
      "98it [00:09, 10.89it/s]                                                                                                \n",
      " 17%|█████████████▊                                                                     | 2/12 [00:00<00:00, 15.79it/s]"
     ]
    },
    {
     "name": "stdout",
     "output_type": "stream",
     "text": [
      "Train Loss: 0.0004, Train Acc: 100.00\n",
      "Validating\n"
     ]
    },
    {
     "name": "stderr",
     "output_type": "stream",
     "text": [
      "13it [00:00, 16.13it/s]                                                                                                \n",
      "  2%|█▋                                                                                 | 2/97 [00:00<00:07, 12.38it/s]"
     ]
    },
    {
     "name": "stdout",
     "output_type": "stream",
     "text": [
      "Val Loss: 0.0104, Val Acc: 94.63\n",
      "Epoch 7 of 25\n",
      "Training\n"
     ]
    },
    {
     "name": "stderr",
     "output_type": "stream",
     "text": [
      "98it [00:09, 10.88it/s]                                                                                                \n",
      " 17%|█████████████▊                                                                     | 2/12 [00:00<00:00, 16.30it/s]"
     ]
    },
    {
     "name": "stdout",
     "output_type": "stream",
     "text": [
      "Train Loss: 0.0003, Train Acc: 100.00\n",
      "Validating\n"
     ]
    },
    {
     "name": "stderr",
     "output_type": "stream",
     "text": [
      "13it [00:00, 16.51it/s]                                                                                                \n",
      "  2%|█▋                                                                                 | 2/97 [00:00<00:07, 12.08it/s]"
     ]
    },
    {
     "name": "stdout",
     "output_type": "stream",
     "text": [
      "Val Loss: 0.0103, Val Acc: 95.12\n",
      "Epoch 8 of 25\n",
      "Training\n"
     ]
    },
    {
     "name": "stderr",
     "output_type": "stream",
     "text": [
      "98it [00:09, 10.48it/s]                                                                                                \n",
      " 17%|█████████████▊                                                                     | 2/12 [00:00<00:00, 16.11it/s]"
     ]
    },
    {
     "name": "stdout",
     "output_type": "stream",
     "text": [
      "Train Loss: 0.0003, Train Acc: 100.00\n",
      "Validating\n"
     ]
    },
    {
     "name": "stderr",
     "output_type": "stream",
     "text": [
      "13it [00:00, 16.73it/s]                                                                                                \n",
      "  2%|█▋                                                                                 | 2/97 [00:00<00:07, 12.08it/s]"
     ]
    },
    {
     "name": "stdout",
     "output_type": "stream",
     "text": [
      "Val Loss: 0.0102, Val Acc: 95.12\n",
      "Epoch 9 of 25\n",
      "Training\n"
     ]
    },
    {
     "name": "stderr",
     "output_type": "stream",
     "text": [
      "98it [00:09, 10.66it/s]                                                                                                \n",
      " 17%|█████████████▊                                                                     | 2/12 [00:00<00:00, 15.30it/s]"
     ]
    },
    {
     "name": "stdout",
     "output_type": "stream",
     "text": [
      "Train Loss: 0.0002, Train Acc: 100.00\n",
      "Validating\n"
     ]
    },
    {
     "name": "stderr",
     "output_type": "stream",
     "text": [
      "13it [00:00, 15.24it/s]                                                                                                \n",
      "  2%|█▋                                                                                 | 2/97 [00:00<00:07, 12.08it/s]"
     ]
    },
    {
     "name": "stdout",
     "output_type": "stream",
     "text": [
      "Val Loss: 0.0102, Val Acc: 94.63\n",
      "Epoch 10 of 25\n",
      "Training\n"
     ]
    },
    {
     "name": "stderr",
     "output_type": "stream",
     "text": [
      "98it [00:09, 10.33it/s]                                                                                                \n",
      " 17%|█████████████▊                                                                     | 2/12 [00:00<00:00, 13.64it/s]"
     ]
    },
    {
     "name": "stdout",
     "output_type": "stream",
     "text": [
      "Train Loss: 0.0002, Train Acc: 100.00\n",
      "Validating\n"
     ]
    },
    {
     "name": "stderr",
     "output_type": "stream",
     "text": [
      "13it [00:00, 15.28it/s]                                                                                                \n",
      "  2%|█▋                                                                                 | 2/97 [00:00<00:07, 12.46it/s]"
     ]
    },
    {
     "name": "stdout",
     "output_type": "stream",
     "text": [
      "Val Loss: 0.0100, Val Acc: 95.12\n",
      "Epoch 11 of 25\n",
      "Training\n"
     ]
    },
    {
     "name": "stderr",
     "output_type": "stream",
     "text": [
      "98it [00:08, 11.00it/s]                                                                                                \n",
      " 17%|█████████████▊                                                                     | 2/12 [00:00<00:00, 16.71it/s]"
     ]
    },
    {
     "name": "stdout",
     "output_type": "stream",
     "text": [
      "Train Loss: 0.0002, Train Acc: 100.00\n",
      "Validating\n"
     ]
    },
    {
     "name": "stderr",
     "output_type": "stream",
     "text": [
      "13it [00:00, 17.52it/s]                                                                                                \n",
      "  2%|█▋                                                                                 | 2/97 [00:00<00:07, 12.08it/s]"
     ]
    },
    {
     "name": "stdout",
     "output_type": "stream",
     "text": [
      "Val Loss: 0.0101, Val Acc: 95.12\n",
      "Epoch 12 of 25\n",
      "Training\n"
     ]
    },
    {
     "name": "stderr",
     "output_type": "stream",
     "text": [
      "98it [00:08, 11.00it/s]                                                                                                \n",
      " 17%|█████████████▊                                                                     | 2/12 [00:00<00:00, 14.97it/s]"
     ]
    },
    {
     "name": "stdout",
     "output_type": "stream",
     "text": [
      "Train Loss: 0.0001, Train Acc: 100.00\n",
      "Validating\n"
     ]
    },
    {
     "name": "stderr",
     "output_type": "stream",
     "text": [
      "13it [00:00, 15.76it/s]                                                                                                \n",
      "  2%|█▋                                                                                 | 2/97 [00:00<00:07, 12.23it/s]"
     ]
    },
    {
     "name": "stdout",
     "output_type": "stream",
     "text": [
      "Val Loss: 0.0100, Val Acc: 95.12\n",
      "Epoch 13 of 25\n",
      "Training\n"
     ]
    },
    {
     "name": "stderr",
     "output_type": "stream",
     "text": [
      "98it [00:08, 10.93it/s]                                                                                                \n",
      " 17%|█████████████▊                                                                     | 2/12 [00:00<00:00, 16.17it/s]"
     ]
    },
    {
     "name": "stdout",
     "output_type": "stream",
     "text": [
      "Train Loss: 0.0001, Train Acc: 100.00\n",
      "Validating\n"
     ]
    },
    {
     "name": "stderr",
     "output_type": "stream",
     "text": [
      "13it [00:00, 16.76it/s]                                                                                                \n",
      "  2%|█▋                                                                                 | 2/97 [00:00<00:07, 12.49it/s]"
     ]
    },
    {
     "name": "stdout",
     "output_type": "stream",
     "text": [
      "Val Loss: 0.0098, Val Acc: 95.12\n",
      "Epoch 14 of 25\n",
      "Training\n"
     ]
    },
    {
     "name": "stderr",
     "output_type": "stream",
     "text": [
      "98it [00:08, 10.97it/s]                                                                                                \n",
      " 17%|█████████████▊                                                                     | 2/12 [00:00<00:00, 15.27it/s]"
     ]
    },
    {
     "name": "stdout",
     "output_type": "stream",
     "text": [
      "Train Loss: 0.0001, Train Acc: 100.00\n",
      "Validating\n"
     ]
    },
    {
     "name": "stderr",
     "output_type": "stream",
     "text": [
      "13it [00:00, 16.35it/s]                                                                                                \n",
      "  2%|█▋                                                                                 | 2/97 [00:00<00:08, 11.33it/s]"
     ]
    },
    {
     "name": "stdout",
     "output_type": "stream",
     "text": [
      "Val Loss: 0.0098, Val Acc: 95.12\n",
      "Epoch 15 of 25\n",
      "Training\n"
     ]
    },
    {
     "name": "stderr",
     "output_type": "stream",
     "text": [
      "98it [00:09, 10.84it/s]                                                                                                \n",
      " 17%|█████████████▊                                                                     | 2/12 [00:00<00:00, 14.64it/s]"
     ]
    },
    {
     "name": "stdout",
     "output_type": "stream",
     "text": [
      "Train Loss: 0.0001, Train Acc: 100.00\n",
      "Validating\n"
     ]
    },
    {
     "name": "stderr",
     "output_type": "stream",
     "text": [
      "13it [00:00, 16.33it/s]                                                                                                \n",
      "  2%|█▋                                                                                 | 2/97 [00:00<00:08, 11.80it/s]"
     ]
    },
    {
     "name": "stdout",
     "output_type": "stream",
     "text": [
      "Val Loss: 0.0099, Val Acc: 95.12\n",
      "Epoch 16 of 25\n",
      "Training\n"
     ]
    },
    {
     "name": "stderr",
     "output_type": "stream",
     "text": [
      "98it [00:08, 10.94it/s]                                                                                                \n",
      " 17%|█████████████▊                                                                     | 2/12 [00:00<00:00, 12.77it/s]"
     ]
    },
    {
     "name": "stdout",
     "output_type": "stream",
     "text": [
      "Train Loss: 0.0001, Train Acc: 100.00\n",
      "Validating\n"
     ]
    },
    {
     "name": "stderr",
     "output_type": "stream",
     "text": [
      "13it [00:00, 14.73it/s]                                                                                                \n",
      "  2%|█▋                                                                                 | 2/97 [00:00<00:07, 12.08it/s]"
     ]
    },
    {
     "name": "stdout",
     "output_type": "stream",
     "text": [
      "Val Loss: 0.0098, Val Acc: 95.12\n",
      "Epoch 17 of 25\n",
      "Training\n"
     ]
    },
    {
     "name": "stderr",
     "output_type": "stream",
     "text": [
      "98it [00:08, 10.96it/s]                                                                                                \n",
      " 17%|█████████████▊                                                                     | 2/12 [00:00<00:00, 15.01it/s]"
     ]
    },
    {
     "name": "stdout",
     "output_type": "stream",
     "text": [
      "Train Loss: 0.0001, Train Acc: 100.00\n",
      "Validating\n"
     ]
    },
    {
     "name": "stderr",
     "output_type": "stream",
     "text": [
      "13it [00:00, 15.76it/s]                                                                                                \n",
      "  2%|█▋                                                                                 | 2/97 [00:00<00:08, 11.55it/s]"
     ]
    },
    {
     "name": "stdout",
     "output_type": "stream",
     "text": [
      "Val Loss: 0.0095, Val Acc: 95.12\n",
      "Epoch 18 of 25\n",
      "Training\n"
     ]
    },
    {
     "name": "stderr",
     "output_type": "stream",
     "text": [
      "98it [00:08, 10.92it/s]                                                                                                \n",
      " 17%|█████████████▊                                                                     | 2/12 [00:00<00:00, 16.37it/s]"
     ]
    },
    {
     "name": "stdout",
     "output_type": "stream",
     "text": [
      "Train Loss: 0.0001, Train Acc: 100.00\n",
      "Validating\n"
     ]
    },
    {
     "name": "stderr",
     "output_type": "stream",
     "text": [
      "13it [00:00, 16.64it/s]                                                                                                \n",
      "  2%|█▋                                                                                 | 2/97 [00:00<00:07, 12.17it/s]"
     ]
    },
    {
     "name": "stdout",
     "output_type": "stream",
     "text": [
      "Val Loss: 0.0097, Val Acc: 95.12\n",
      "Epoch 19 of 25\n",
      "Training\n"
     ]
    },
    {
     "name": "stderr",
     "output_type": "stream",
     "text": [
      "98it [00:09, 10.29it/s]                                                                                                \n",
      " 17%|█████████████▊                                                                     | 2/12 [00:00<00:00, 14.32it/s]"
     ]
    },
    {
     "name": "stdout",
     "output_type": "stream",
     "text": [
      "Train Loss: 0.0001, Train Acc: 100.00\n",
      "Validating\n"
     ]
    },
    {
     "name": "stderr",
     "output_type": "stream",
     "text": [
      "13it [00:00, 15.26it/s]                                                                                                \n",
      "  2%|█▋                                                                                 | 2/97 [00:00<00:07, 12.01it/s]"
     ]
    },
    {
     "name": "stdout",
     "output_type": "stream",
     "text": [
      "Val Loss: 0.0096, Val Acc: 95.12\n",
      "Epoch 20 of 25\n",
      "Training\n"
     ]
    },
    {
     "name": "stderr",
     "output_type": "stream",
     "text": [
      "98it [00:10,  9.56it/s]                                                                                                \n",
      " 17%|█████████████▊                                                                     | 2/12 [00:00<00:00, 14.43it/s]"
     ]
    },
    {
     "name": "stdout",
     "output_type": "stream",
     "text": [
      "Train Loss: 0.0001, Train Acc: 100.00\n",
      "Validating\n"
     ]
    },
    {
     "name": "stderr",
     "output_type": "stream",
     "text": [
      "13it [00:00, 14.82it/s]                                                                                                \n",
      "  2%|█▋                                                                                 | 2/97 [00:00<00:08, 11.02it/s]"
     ]
    },
    {
     "name": "stdout",
     "output_type": "stream",
     "text": [
      "Val Loss: 0.0096, Val Acc: 94.63\n",
      "Epoch 21 of 25\n",
      "Training\n"
     ]
    },
    {
     "name": "stderr",
     "output_type": "stream",
     "text": [
      "98it [00:10,  9.74it/s]                                                                                                \n",
      " 17%|█████████████▊                                                                     | 2/12 [00:00<00:00, 15.67it/s]"
     ]
    },
    {
     "name": "stdout",
     "output_type": "stream",
     "text": [
      "Train Loss: 0.0001, Train Acc: 100.00\n",
      "Validating\n"
     ]
    },
    {
     "name": "stderr",
     "output_type": "stream",
     "text": [
      "13it [00:00, 16.18it/s]                                                                                                \n",
      "  2%|█▋                                                                                 | 2/97 [00:00<00:08, 11.33it/s]"
     ]
    },
    {
     "name": "stdout",
     "output_type": "stream",
     "text": [
      "Val Loss: 0.0097, Val Acc: 94.63\n",
      "Epoch 22 of 25\n",
      "Training\n"
     ]
    },
    {
     "name": "stderr",
     "output_type": "stream",
     "text": [
      "98it [00:09, 10.08it/s]                                                                                                \n",
      " 17%|█████████████▊                                                                     | 2/12 [00:00<00:00, 16.30it/s]"
     ]
    },
    {
     "name": "stdout",
     "output_type": "stream",
     "text": [
      "Train Loss: 0.0001, Train Acc: 100.00\n",
      "Validating\n"
     ]
    },
    {
     "name": "stderr",
     "output_type": "stream",
     "text": [
      "13it [00:00, 16.81it/s]                                                                                                \n",
      "  2%|█▋                                                                                 | 2/97 [00:00<00:07, 11.98it/s]"
     ]
    },
    {
     "name": "stdout",
     "output_type": "stream",
     "text": [
      "Val Loss: 0.0097, Val Acc: 94.63\n",
      "Epoch 23 of 25\n",
      "Training\n"
     ]
    },
    {
     "name": "stderr",
     "output_type": "stream",
     "text": [
      "98it [00:09, 10.83it/s]                                                                                                \n",
      " 17%|█████████████▊                                                                     | 2/12 [00:00<00:00, 15.08it/s]"
     ]
    },
    {
     "name": "stdout",
     "output_type": "stream",
     "text": [
      "Train Loss: 0.0000, Train Acc: 100.00\n",
      "Validating\n"
     ]
    },
    {
     "name": "stderr",
     "output_type": "stream",
     "text": [
      "13it [00:00, 16.35it/s]                                                                                                \n",
      "  2%|█▋                                                                                 | 2/97 [00:00<00:08, 11.65it/s]"
     ]
    },
    {
     "name": "stdout",
     "output_type": "stream",
     "text": [
      "Val Loss: 0.0097, Val Acc: 94.63\n",
      "Epoch 24 of 25\n",
      "Training\n"
     ]
    },
    {
     "name": "stderr",
     "output_type": "stream",
     "text": [
      "98it [00:09, 10.75it/s]                                                                                                \n",
      " 17%|█████████████▊                                                                     | 2/12 [00:00<00:00, 14.91it/s]"
     ]
    },
    {
     "name": "stdout",
     "output_type": "stream",
     "text": [
      "Train Loss: 0.0000, Train Acc: 100.00\n",
      "Validating\n"
     ]
    },
    {
     "name": "stderr",
     "output_type": "stream",
     "text": [
      "13it [00:00, 15.73it/s]                                                                                                \n",
      "  2%|█▋                                                                                 | 2/97 [00:00<00:07, 12.15it/s]"
     ]
    },
    {
     "name": "stdout",
     "output_type": "stream",
     "text": [
      "Val Loss: 0.0095, Val Acc: 94.63\n",
      "Epoch 25 of 25\n",
      "Training\n"
     ]
    },
    {
     "name": "stderr",
     "output_type": "stream",
     "text": [
      "98it [00:09, 10.54it/s]                                                                                                \n",
      " 17%|█████████████▊                                                                     | 2/12 [00:00<00:00, 14.43it/s]"
     ]
    },
    {
     "name": "stdout",
     "output_type": "stream",
     "text": [
      "Train Loss: 0.0000, Train Acc: 100.00\n",
      "Validating\n"
     ]
    },
    {
     "name": "stderr",
     "output_type": "stream",
     "text": [
      "13it [00:00, 14.85it/s]                                                                                                \n"
     ]
    },
    {
     "name": "stdout",
     "output_type": "stream",
     "text": [
      "Val Loss: 0.0095, Val Acc: 95.12\n",
      "4.2080457011858625 minutes\n"
     ]
    },
    {
     "data": {
      "image/png": "[encoded data removed]",
      "text/plain": [
       "<Figure size 720x504 with 1 Axes>"
      ]
     },
     "metadata": {},
     "output_type": "display_data"
    },
    {
     "data": {
      "image/png": "[encoded data removed]",
      "text/plain": [
       "<Figure size 720x504 with 1 Axes>"
      ]
     },
     "metadata": {},
     "output_type": "display_data"
    }
   ],
   "source": [
    "train_loss , train_accuracy = [], []\n",
    "val_loss , val_accuracy = [], []\n",
    "print(f\"Training on {len(train_data)} examples, validating on {len(val_data)} examples...\")\n",
    "start = time.time()\n",
    "for epoch in range(epochs):\n",
    "    print(f\"Epoch {epoch+1} of {epochs}\")\n",
    "    train_epoch_loss, train_epoch_accuracy = fit(model, trainloader)\n",
    "    val_epoch_loss, val_epoch_accuracy = validate(model, valloader)\n",
    "    train_loss.append(train_epoch_loss)\n",
    "    train_accuracy.append(train_epoch_accuracy)\n",
    "    val_loss.append(val_epoch_loss)\n",
    "    val_accuracy.append(val_epoch_accuracy)\n",
    "end = time.time()\n",
    "print((end-start)/60, 'minutes')\n",
    " \n",
    "torch.save(model.state_dict(), f\"resnet34_epochs{epochs}.pth\")\n",
    " \n",
    "# accuracy plots\n",
    "plt.figure(figsize=(10, 7))\n",
    "plt.plot(train_accuracy, color='green', label='train accuracy')\n",
    "plt.plot(val_accuracy, color='blue', label='validataion accuracy')\n",
    "plt.xlabel('Epochs')\n",
    "plt.ylabel('Accuracy')\n",
    "plt.legend()\n",
    "plt.savefig('accuracy.png')\n",
    " \n",
    "# loss plots\n",
    "plt.figure(figsize=(10, 7))\n",
    "plt.plot(train_loss, color='orange', label='train loss')\n",
    "plt.plot(val_loss, color='red', label='validataion loss')\n",
    "plt.xlabel('Epochs')\n",
    "plt.ylabel('Loss')\n",
    "plt.legend()\n",
    "plt.savefig('loss.png')"
   ]
  },
  {
   "cell_type": "code",
   "execution_count": 21,
   "metadata": {},
   "outputs": [
    {
     "name": "stdout",
     "output_type": "stream",
     "text": [
      "Pickling accuracy and loss lists...\n"
     ]
    },
    {
     "data": {
      "text/plain": [
       "['val_loss.pkl']"
      ]
     },
     "execution_count": 21,
     "metadata": {},
     "output_type": "execute_result"
    }
   ],
   "source": [
    "# save the accuracy and loss lists as pickled files\n",
    "print('Pickling accuracy and loss lists...')\n",
    "joblib.dump(train_accuracy, 'train_accuracy.pkl')\n",
    "joblib.dump(train_loss, 'train_loss.pkl')\n",
    "joblib.dump(val_accuracy, 'val_accuracy.pkl')\n",
    "joblib.dump(val_loss, 'val_loss.pkl')"
   ]
  },
  {
   "cell_type": "code",
   "execution_count": 24,
   "metadata": {},
   "outputs": [
    {
     "name": "stdout",
     "output_type": "stream",
     "text": [
      "tensor([11,  7,  1, 13,  3,  1,  6, 12, 15,  1,  6, 10,  1,  4,  7,  5],\n",
      "       device='cuda:0')\n",
      "tensor([12,  6,  7,  5,  2,  4, 11,  9, 11,  9,  2, 13, 10,  7,  3,  1],\n",
      "       device='cuda:0')\n",
      "tensor([15,  3,  4,  5,  1,  6,  8,  8, 12,  2,  4,  5, 10,  7,  7, 14],\n",
      "       device='cuda:0')\n",
      "tensor([11, 12, 14,  1, 15,  2, 10,  3, 11, 14,  5,  8,  1,  3, 14,  9],\n",
      "       device='cuda:0')\n",
      "tensor([ 9, 15,  3, 14, 14, 13, 12,  3, 12,  4,  6, 10,  6, 11,  0,  2],\n",
      "       device='cuda:0')\n",
      "tensor([15,  4, 13, 12,  6, 10,  2, 11,  6, 10,  3,  1,  9, 12,  1,  6],\n",
      "       device='cuda:0')\n",
      "tensor([ 8,  2, 12, 10, 15, 10,  5,  2,  1,  1,  9,  9,  7,  5, 11,  6],\n",
      "       device='cuda:0')\n",
      "tensor([ 0, 13, 11,  4,  6,  6, 12,  7,  1, 15,  1,  9,  4,  3,  8, 11],\n",
      "       device='cuda:0')\n",
      "tensor([ 5,  0, 12, 12,  1,  9, 11,  0, 12,  5, 15, 12,  6,  9,  1,  8],\n",
      "       device='cuda:0')\n",
      "tensor([ 0,  5,  1,  1,  3, 11,  7,  4, 10, 13, 14,  7,  6, 13,  3,  9],\n",
      "       device='cuda:0')\n",
      "tensor([14, 10,  4,  0, 15,  1, 11,  6, 13,  1, 13,  4,  8,  2,  3,  2],\n",
      "       device='cuda:0')\n",
      "tensor([ 0,  4,  9,  0,  2, 15,  6,  4, 13, 11,  1,  4, 10,  1,  0, 11],\n",
      "       device='cuda:0')\n",
      "tensor([12,  9,  4,  0,  8, 14,  1, 10, 14,  0, 11,  1, 11], device='cuda:0')\n",
      "195 205\n",
      "Accuracy of the network on test images: 95.122 %\n",
      "train.py finished running\n"
     ]
    }
   ],
   "source": [
    "correct, total = test(model, testloader)\n",
    "print(correct, total)\n",
    "print('Accuracy of the network on test images: %0.3f %%' % (100 * correct / total))\n",
    "print('train.py finished running')"
   ]
  },
  {
   "cell_type": "code",
   "execution_count": 4,
   "metadata": {},
   "outputs": [
    {
     "name": "stdout",
     "output_type": "stream",
     "text": [
      "parsing done.\n"
     ]
    }
   ],
   "source": [
    "import re\n",
    "\n",
    "pat1 = r'%s(.+?)%s' % ('\\[', '\\]')\n",
    "p = re.compile(pat1, re.IGNORECASE)\n",
    "\n",
    "with open('result_raw.txt', 'r') as in_file:\n",
    "    with open('result.txt', 'w', encoding='utf-8', newline='\\n') as out_file:\n",
    "        lines = in_file.readlines()\n",
    "        for line in lines:\n",
    "            row = re.findall(p, line)\n",
    "            if row:\n",
    "                num_list = [str(x.strip()) for x in row[0].split(',')]\n",
    "                for i in num_list:\n",
    "                    out_file.write(i)\n",
    "                    out_file.write('\\n')\n",
    "                    \n",
    "print('parsing done.')"
   ]
  },
  {
   "cell_type": "code",
   "execution_count": 3,
   "metadata": {},
   "outputs": [],
   "source": [
    "train_acc = joblib.load('train_accuracy.pkl')"
   ]
  },
  {
   "cell_type": "code",
   "execution_count": 4,
   "metadata": {},
   "outputs": [
    {
     "name": "stdout",
     "output_type": "stream",
     "text": [
      "[69.75111678366305, 96.936821952776, 99.617102744097, 100.0, 100.0, 100.0, 100.0, 100.0, 100.0, 100.0, 100.0, 100.0, 100.0, 100.0, 100.0, 100.0, 100.0, 100.0, 100.0, 100.0, 100.0, 100.0, 100.0, 100.0, 100.0]\n"
     ]
    }
   ],
   "source": [
    "print(train_acc)"
   ]
  },
  {
   "cell_type": "code",
   "execution_count": null,
   "metadata": {},
   "outputs": [],
   "source": []
  }
 ],
 "metadata": {
  "kernelspec": {
   "display_name": "Python 3 (ipykernel)",
   "language": "python",
   "name": "python3"
  },
  "language_info": {
   "codemirror_mode": {
    "name": "ipython",
    "version": 3
   },
   "file_extension": ".py",
   "mimetype": "text/x-python",
   "name": "python",
   "nbconvert_exporter": "python",
   "pygments_lexer": "ipython3",
   "version": "3.8.12"
  }
 },
 "nbformat": 4,
 "nbformat_minor": 4
}
